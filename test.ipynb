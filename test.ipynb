{
 "cells": [
  {
   "cell_type": "code",
   "execution_count": 82,
   "metadata": {},
   "outputs": [],
   "source": [
    "from jours_feries_france import JoursFeries\n",
    "\n",
    "def get_jour_ferie(date):\n",
    "    # Récupérer tous les jours fériés de l'année 2025\n",
    "    jours_feries = JoursFeries.for_year(date.year)\n",
    "\n",
    "    # Vérifier si la date du jour est dans la liste des jours fériés\n",
    "    est_ferie = False\n",
    "    for nom, date_ferie in jours_feries.items():\n",
    "        if date_ferie == date:\n",
    "            est_ferie = True\n",
    "            break\n",
    "\n",
    "    if est_ferie:\n",
    "        print(\"Aujourd'hui est un jour férié en France.\")\n",
    "    else:\n",
    "        print(\"Aujourd'hui n'est pas un jour férié en France.\")\n",
    "    \n",
    "\n",
    "    return est_ferie"
   ]
  },
  {
   "cell_type": "code",
   "execution_count": 83,
   "metadata": {},
   "outputs": [
    {
     "name": "stdout",
     "output_type": "stream",
     "text": [
      "2025\n",
      "7\n",
      "30\n",
      "Numéro du jour de la semaine :  3\n",
      "Aujourd'hui n'est pas un jour férié en France.\n"
     ]
    },
    {
     "data": {
      "text/plain": [
       "False"
      ]
     },
     "execution_count": 83,
     "metadata": {},
     "output_type": "execute_result"
    }
   ],
   "source": [
    "from datetime import datetime\n",
    "\n",
    "# Obtenir la date du jour\n",
    "aujourdhui = datetime.today()\n",
    "\n",
    "print(aujourdhui.year)\n",
    "print(aujourdhui.month)\n",
    "print(aujourdhui.day)\n",
    "\n",
    "# Weekday + 1 car en France la semaine commence lundi alors que datetime utilise les weekday anglosaxon et leur semaine commence le dimanche\n",
    "print('Numéro du jour de la semaine : ', aujourdhui.isoweekday())\n",
    "\n",
    "get_jour_ferie(aujourdhui)"
   ]
  },
  {
   "cell_type": "code",
   "execution_count": 15,
   "metadata": {},
   "outputs": [
    {
     "name": "stdout",
     "output_type": "stream",
     "text": [
      "1 id 287082\n",
      "2 nom aai2_consultation_demande_v6\n",
      "3 identifiant 1f0095e0-d201-6b36-a2d0-391ef0b9d7cb\n",
      "4 date_creation 2025-03-25 10:48:02\n",
      "5 ancien_nom None\n",
      "6 description None\n",
      "7 id_application 15\n",
      "8 id_planning_execution 1\n",
      "9 id_planning_indispo 1\n",
      "10 id_planning_maintenance None\n",
      "11 pas_execution 1200\n",
      "12 seuil_message 40\n",
      "13 seuil_alerte None\n",
      "14 flag_affichage None\n",
      "15 flag_maintenance None\n",
      "16 motif_maintenance None\n",
      "17 flag_ferie None\n",
      "18 flag_actif True\n",
      "19 date_activation 2025-06-27 16:44:32\n",
      "20 date_desactivation 2025-06-27 16:44:18\n",
      "21 flag_indispo None\n",
      "22 flag_export None\n",
      "23 indispo_ferie None\n",
      "24 date_activ_dispo None\n",
      "25 date_fin_periode None\n",
      "26 screenshots None\n",
      "27 archive False\n",
      "28 updated_at 2025-07-30 16:03:59\n",
      "29 date_dernier_status None\n",
      "30 id_synchro 20\n",
      "31 seuil_ralentissement None\n",
      "32 planning [{'jour': 1, 'heure_debut': '07:00:00', 'heure_fin': '22:00:00'}, {'jour': 2, 'heure_debut': '07:00:00', 'heure_fin': '22:00:00'}, {'jour': 3, 'heure_debut': '07:00:00', 'heure_fin': '22:00:00'}, {'jour': 4, 'heure_debut': '07:00:00', 'heure_fin': '22:00:00'}, {'jour': 5, 'heure_debut': '07:00:00', 'heure_fin': '22:00:00'}]\n",
      "33 application {'id': 15, 'nom': 'AAI2', 'trigramme': 'AAI2', 'description': \"Gestion et suivi des demandes d'assistance administratives internationales et confection des états statistiques à destination de l'Union Européenne \", 'transverse': False, 'archive': False, 'id_synchro': 191}\n"
     ]
    }
   ],
   "source": [
    "import requests\n",
    "\n",
    "def lecture_api_scenario(url_base_api_injecteur, identifiant_scenario):\n",
    "    \"\"\"\n",
    "    Charge les données du scénario depuis l'API si la lecture est activée\n",
    "    et si un identifiant est présent dans la configuration.\n",
    "    \"\"\"\n",
    "    url = f\"{url_base_api_injecteur}injapi/scenario/{identifiant_scenario}\"\n",
    "\n",
    "    response = requests.get(url, timeout=10)\n",
    "    # Raises :class:`HTTPError`, if one occurred.\"\"\"\n",
    "    response.raise_for_status()\n",
    "\n",
    "    return response.json()\n",
    "\n",
    "\n",
    "donnees_api = lecture_api_scenario('http://192.168.210.205/', '1f0095e0-d201-6b36-a2d0-391ef0b9d7cb')\n",
    "\n",
    "i = 1\n",
    "\n",
    "for key in donnees_api.keys():\n",
    "    print(i, key, donnees_api[key])\n",
    "    i += 1"
   ]
  },
  {
   "cell_type": "code",
   "execution_count": 95,
   "metadata": {},
   "outputs": [
    {
     "name": "stdout",
     "output_type": "stream",
     "text": [
      "Aujourd'hui n'est pas un jour férié en France.\n",
      "{'jour': 3, 'heure_debut': '07:00:00', 'heure_fin': '22:00:00'}\n",
      "07:00:00 <class 'datetime.time'>\n",
      "17:47:17.324391 <class 'datetime.time'>\n",
      "22:00:00 <class 'datetime.time'>\n",
      "Dedans\n"
     ]
    }
   ],
   "source": [
    "# Variable dont on a besoin pour vérifier si le scénarios est dans la bonne période d'execution\n",
    "# flag_ferie, planning\n",
    "\n",
    "from datetime import datetime\n",
    "\n",
    "def check_flag_ferie(flag_ferie):\n",
    "    \"\"\"\n",
    "    Vérifier si le scénario à l'autorisation de s'executer en cas de jours férié \n",
    "    \"\"\"\n",
    "\n",
    "    # Si on est un jour férié et que le flag férié est différent de True il faut annuler le lancement du scénario\n",
    "    # flag_ferie peut être None, True ou False\n",
    "    if flag_ferie is not True:\n",
    "        # Renvoyer une erreur et arrêter pytest\n",
    "        pass\n",
    "    else:\n",
    "        # On peut continuer le traitement\n",
    "        pass\n",
    "\n",
    "def get_plages_horaires(planning):\n",
    "    \"\"\"\n",
    "    Création d'une liste des différentes plages horaires sur lesquelles le scénarios doit s'executer sur la journée\n",
    "    \"\"\"\n",
    "    plages_horaires = []\n",
    "\n",
    "    # Si le planning est dans les données API on recherche les différentes plages horaires\n",
    "    if planning:\n",
    "        for plage_horaire in planning:\n",
    "            if plage_horaire['jour'] == aujourdhui.isoweekday():\n",
    "                print(plage_horaire)\n",
    "                plages_horaires.append(plage_horaire)\n",
    "    \n",
    "    return plages_horaires\n",
    "\n",
    "def check_planning_execution(plages_horaires, date_du_jour):\n",
    "    \"\"\"\n",
    "    Vérifier si le scénario à l'autorisation de s'executer.\n",
    "    \"\"\"\n",
    "\n",
    "    for plage_horaire in plages_horaires:\n",
    "        heure_debut = datetime.strptime(plage_horaire['heure_debut'], '%H:%M:%S').time()\n",
    "        heure_fin = datetime.strptime(plage_horaire['heure_fin'], '%H:%M:%S').time()\n",
    "        print(heure_debut, type(heure_debut))\n",
    "        print(date_du_jour.time(), type(date_du_jour.time()))\n",
    "        print(heure_fin, type(heure_fin))\n",
    "\n",
    "        # Si le scénario est dans une plage horaire il peut s'executer sinon il faut vérifier la prochaine plage horaire de la liste.\n",
    "        # Si le scénario n'a pas l'autorisation de s'executer dans au moins l'une des plages horaires alors il faut l'arrêter avant son lancement\n",
    "\n",
    "def planning_execution():\n",
    "    \"\"\"\n",
    "    Vérifie si le planning d'exécution est bien respecté\n",
    "    \"\"\"\n",
    "    # Obtenir la date du jour\n",
    "    aujourdhui = datetime.today()\n",
    "\n",
    "    # Récupération du flag férié dans les données\n",
    "    flag_ferie = donnees_api['flag_ferie']\n",
    "\n",
    "    # Récupération du planning de la journée\n",
    "    planning = donnees_api.get('planning', None)\n",
    "\n",
    "    # Si on est férié on vérifier si le scénario doit tourner ou non\n",
    "    if get_jour_ferie(aujourdhui) is True:\n",
    "        check_flag_ferie(date_du_jour=aujourdhui, flag_ferie=flag_ferie)\n",
    "\n",
    "    # Création de la liste des différentes plages horaires sur lesquelles le scénarios doit être actif sur la journée\n",
    "    plages_horaires = get_plages_horaires(planning)\n",
    "\n",
    "    # Vérifier si l'exection se déroule dans l'une des plages horaires\n",
    "    check_planning_execution(plages_horaires=plages_horaires, date_du_jour=aujourdhui)\n",
    "\n",
    "planning_execution()"
   ]
  }
 ],
 "metadata": {
  "kernelspec": {
   "display_name": "venv",
   "language": "python",
   "name": "python3"
  },
  "language_info": {
   "codemirror_mode": {
    "name": "ipython",
    "version": 3
   },
   "file_extension": ".py",
   "mimetype": "text/x-python",
   "name": "python",
   "nbconvert_exporter": "python",
   "pygments_lexer": "ipython3",
   "version": "3.12.3"
  }
 },
 "nbformat": 4,
 "nbformat_minor": 2
}
